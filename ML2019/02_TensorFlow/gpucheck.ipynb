{
 "cells": [
  {
   "cell_type": "code",
   "execution_count": 1,
   "metadata": {},
   "outputs": [],
   "source": [
    "import tensorflow as tf"
   ]
  },
  {
   "cell_type": "code",
   "execution_count": 2,
   "metadata": {},
   "outputs": [],
   "source": [
    "hello = tf.constant('Hello, TensorFlow!')"
   ]
  },
  {
   "cell_type": "raw",
   "metadata": {},
   "source": [
    "2018-08-03 17:22:56.534808: I C:\\users\\nwani\\_bazel_nwani\\mmtm6wb6\\execroot\\org_tensorflow\\tensorflow\\core\\common_runtime\\gpu\\gpu_device.cc:\n",
    "1356] Found device 0 with properties:\n",
    "name: GeForce GTX 1080 Ti major: 6 minor: 1 memoryClockRate(GHz): 1.645\n",
    "pciBusID: 0000:08:00.0\n",
    "totalMemory: 11.00GiB freeMemory: 10.25GiB\n",
    "2018-08-03 17:22:56.535808: I C:\\users\\nwani\\_bazel_nwani\\mmtm6wb6\\execroot\\org_tensorflow\\tensorflow\\core\\common_runtime\\gpu\\gpu_device.cc:\n",
    "1435] Adding visible gpu devices: 0\n",
    "2018-08-03 17:23:24.868429: I C:\\users\\nwani\\_bazel_nwani\\mmtm6wb6\\execroot\\org_tensorflow\\tensorflow\\core\\common_runtime\\gpu\\gpu_device.cc:\n",
    "923] Device interconnect StreamExecutor with strength 1 edge matrix:\n",
    "2018-08-03 17:23:24.869429: I C:\\users\\nwani\\_bazel_nwani\\mmtm6wb6\\execroot\\org_tensorflow\\tensorflow\\core\\common_runtime\\gpu\\gpu_device.cc:\n",
    "929]      0\n",
    "2018-08-03 17:23:24.869429: I C:\\users\\nwani\\_bazel_nwani\\mmtm6wb6\\execroot\\org_tensorflow\\tensorflow\\core\\common_runtime\\gpu\\gpu_device.cc:\n",
    "942] 0:   N\n",
    "2018-08-03 17:23:24.869429: I C:\\users\\nwani\\_bazel_nwani\\mmtm6wb6\\execroot\\org_tensorflow\\tensorflow\\core\\common_runtime\\gpu\\gpu_device.cc:\n",
    "1053] Created TensorFlow device (/job:localhost/replica:0/task:0/device:GPU:0 with 9918 MB memory) -> physical GPU (device: 0, name: GeForce\n",
    " GTX 1080 Ti, pci bus id: 0000:08:00.0, compute capability: 6.1)"
   ]
  },
  {
   "cell_type": "code",
   "execution_count": 3,
   "metadata": {},
   "outputs": [],
   "source": [
    "sess = tf.Session()"
   ]
  },
  {
   "cell_type": "code",
   "execution_count": 4,
   "metadata": {},
   "outputs": [
    {
     "name": "stdout",
     "output_type": "stream",
     "text": [
      "b'Hello, TensorFlow!'\n"
     ]
    }
   ],
   "source": [
    "print(sess.run(hello))"
   ]
  },
  {
   "cell_type": "code",
   "execution_count": 5,
   "metadata": {},
   "outputs": [],
   "source": [
    "a = tf.constant(10)\n",
    "b = tf.constant(32)"
   ]
  },
  {
   "cell_type": "code",
   "execution_count": 6,
   "metadata": {},
   "outputs": [
    {
     "name": "stdout",
     "output_type": "stream",
     "text": [
      "42\n"
     ]
    }
   ],
   "source": [
    "print(sess.run(a + b))"
   ]
  },
  {
   "cell_type": "code",
   "execution_count": null,
   "metadata": {},
   "outputs": [],
   "source": []
  }
 ],
 "metadata": {
  "kernelspec": {
   "display_name": "Python 3",
   "language": "python",
   "name": "python3"
  },
  "language_info": {
   "codemirror_mode": {
    "name": "ipython",
    "version": 3
   },
   "file_extension": ".py",
   "mimetype": "text/x-python",
   "name": "python",
   "nbconvert_exporter": "python",
   "pygments_lexer": "ipython3",
   "version": "3.6.6"
  }
 },
 "nbformat": 4,
 "nbformat_minor": 2
}
