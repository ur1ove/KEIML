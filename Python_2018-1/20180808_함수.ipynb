{
 "cells": [
  {
   "cell_type": "markdown",
   "metadata": {},
   "source": [
    "## 함수\n",
    "- 함수(Function) : 어떤 일을 수행하는 최소한의 코드 묶음, ~~일련의 기능~~  \n",
    "- 함수를 공부하는 목적, 코드를 읽기!!!\n",
    "\n",
    "~~~\n",
    "def k_sum(첫번째, 두번째):\n",
    "    return 첫번째 + 두번째\n",
    "~~~"
   ]
  },
  {
   "cell_type": "code",
   "execution_count": 1,
   "metadata": {},
   "outputs": [],
   "source": [
    "def k_sum(첫번째, 두번째):\n",
    "    return 첫번째 + 두번째"
   ]
  },
  {
   "cell_type": "code",
   "execution_count": 2,
   "metadata": {},
   "outputs": [
    {
     "data": {
      "text/plain": [
       "3"
      ]
     },
     "execution_count": 2,
     "metadata": {},
     "output_type": "execute_result"
    }
   ],
   "source": [
    "val1 = 1\n",
    "val2 = 2\n",
    "sum1 = k_sum(val1, val2)\n",
    "sum1"
   ]
  },
  {
   "cell_type": "markdown",
   "metadata": {},
   "source": [
    "### 입력값이 없는 함수\n",
    "~~~\n",
    "def k_say():\n",
    "    return \"안녕, 반가워~!!!\"\n",
    "~~~\n",
    "- 괄호;() 를 사용해야함\n",
    "- 함수 자체를 호출하는 것과 print를 적용하는 것의 차이\n",
    "- 입력값의 개수와 자료형을 맞춰서"
   ]
  },
  {
   "cell_type": "code",
   "execution_count": 5,
   "metadata": {},
   "outputs": [],
   "source": [
    "def k_say():\n",
    "    return \"안녕, 반가워~!!!\""
   ]
  },
  {
   "cell_type": "code",
   "execution_count": 6,
   "metadata": {
    "scrolled": true
   },
   "outputs": [
    {
     "data": {
      "text/plain": [
       "<function __main__.k_say>"
      ]
     },
     "execution_count": 6,
     "metadata": {},
     "output_type": "execute_result"
    }
   ],
   "source": [
    "k_say"
   ]
  },
  {
   "cell_type": "code",
   "execution_count": 7,
   "metadata": {},
   "outputs": [
    {
     "data": {
      "text/plain": [
       "'안녕, 반가워~!!!'"
      ]
     },
     "execution_count": 7,
     "metadata": {},
     "output_type": "execute_result"
    }
   ],
   "source": [
    "k_say()"
   ]
  },
  {
   "cell_type": "code",
   "execution_count": 8,
   "metadata": {},
   "outputs": [
    {
     "name": "stdout",
     "output_type": "stream",
     "text": [
      "안녕, 반가워~!!!\n"
     ]
    }
   ],
   "source": [
    "print(k_say())"
   ]
  },
  {
   "cell_type": "code",
   "execution_count": 9,
   "metadata": {},
   "outputs": [
    {
     "ename": "TypeError",
     "evalue": "k_say() takes 0 positional arguments but 1 was given",
     "output_type": "error",
     "traceback": [
      "\u001b[0;31m---------------------------------------------------------------------------\u001b[0m",
      "\u001b[0;31mTypeError\u001b[0m                                 Traceback (most recent call last)",
      "\u001b[0;32m<ipython-input-9-8a6e3909a96d>\u001b[0m in \u001b[0;36m<module>\u001b[0;34m()\u001b[0m\n\u001b[0;32m----> 1\u001b[0;31m \u001b[0mk_say\u001b[0m\u001b[0;34m(\u001b[0m\u001b[0;34m\"바보\"\u001b[0m\u001b[0;34m)\u001b[0m\u001b[0;34m\u001b[0m\u001b[0m\n\u001b[0m",
      "\u001b[0;31mTypeError\u001b[0m: k_say() takes 0 positional arguments but 1 was given"
     ]
    }
   ],
   "source": [
    "k_say(\"바보\")"
   ]
  },
  {
   "cell_type": "markdown",
   "metadata": {},
   "source": [
    "### 결과값이 없는 함수\n",
    "- return을 하지 않아도 됨\n",
    "~~~\n",
    "def k_show(문자열1, 문자열2):\n",
    "    print(\"%s 은 %s 가 아니다.\" % (문자열1, 문자열2))\n",
    "~~~"
   ]
  },
  {
   "cell_type": "code",
   "execution_count": 12,
   "metadata": {},
   "outputs": [],
   "source": [
    "def k_show(문자열1, 문자열2):\n",
    "    print(\"%s 은(는) %s 가 아니다.\" % (문자열1, 문자열2))"
   ]
  },
  {
   "cell_type": "code",
   "execution_count": 13,
   "metadata": {},
   "outputs": [
    {
     "ename": "NameError",
     "evalue": "name '엄마' is not defined",
     "output_type": "error",
     "traceback": [
      "\u001b[0;31m---------------------------------------------------------------------------\u001b[0m",
      "\u001b[0;31mNameError\u001b[0m                                 Traceback (most recent call last)",
      "\u001b[0;32m<ipython-input-13-ec09141458ab>\u001b[0m in \u001b[0;36m<module>\u001b[0;34m()\u001b[0m\n\u001b[0;32m----> 1\u001b[0;31m \u001b[0mk_show\u001b[0m\u001b[0;34m(\u001b[0m\u001b[0m엄마\u001b[0m\u001b[0;34m,\u001b[0m \u001b[0m아빠\u001b[0m\u001b[0;34m)\u001b[0m\u001b[0;34m\u001b[0m\u001b[0m\n\u001b[0m",
      "\u001b[0;31mNameError\u001b[0m: name '엄마' is not defined"
     ]
    }
   ],
   "source": [
    "k_show(엄마, 아빠)"
   ]
  },
  {
   "cell_type": "code",
   "execution_count": 14,
   "metadata": {},
   "outputs": [
    {
     "name": "stdout",
     "output_type": "stream",
     "text": [
      "엄마 은(는) 아빠 가 아니다.\n"
     ]
    }
   ],
   "source": [
    "k_show(\"엄마\", \"아빠\")"
   ]
  },
  {
   "cell_type": "markdown",
   "metadata": {},
   "source": [
    "### 입력값과 결과값이 없는 함수\n",
    "~~~\n",
    "def k_say2():\n",
    "    print(\"잘했어!!!\")\n",
    "~~~"
   ]
  },
  {
   "cell_type": "code",
   "execution_count": 16,
   "metadata": {},
   "outputs": [],
   "source": [
    "def k_say2():\n",
    "    print(\"잘했어!!!\")"
   ]
  },
  {
   "cell_type": "code",
   "execution_count": 17,
   "metadata": {},
   "outputs": [
    {
     "name": "stdout",
     "output_type": "stream",
     "text": [
      "잘했어!!!\n"
     ]
    }
   ],
   "source": [
    "k_say2()"
   ]
  },
  {
   "cell_type": "code",
   "execution_count": 18,
   "metadata": {},
   "outputs": [
    {
     "name": "stdout",
     "output_type": "stream",
     "text": [
      "잘했어!!!\n",
      "None\n"
     ]
    }
   ],
   "source": [
    "print(k_say2())"
   ]
  },
  {
   "cell_type": "markdown",
   "metadata": {},
   "source": [
    "### 입력값을 정할 수 없을 때\n",
    "~~~\n",
    "def k_someinput(*입력값들):\n",
    "    for 입력값 in 입력값들:\n",
    "        print(입력값)\n",
    "~~~"
   ]
  },
  {
   "cell_type": "code",
   "execution_count": 19,
   "metadata": {},
   "outputs": [],
   "source": [
    "def k_someinput(*입력값들):\n",
    "    for 입력값 in 입력값들:\n",
    "        print(입력값)"
   ]
  },
  {
   "cell_type": "code",
   "execution_count": 20,
   "metadata": {},
   "outputs": [
    {
     "name": "stdout",
     "output_type": "stream",
     "text": [
      "1\n",
      "이\n",
      "3.5\n",
      "Sa\n",
      "[5, 6, 7]\n"
     ]
    }
   ],
   "source": [
    "k_someinput(1, \"이\", 3.5, \"Sa\", [5, 6, 7])"
   ]
  },
  {
   "cell_type": "code",
   "execution_count": 21,
   "metadata": {},
   "outputs": [],
   "source": [
    "def k_someinput(*입력값들):\n",
    "    번째 = 1\n",
    "    \n",
    "    for 입력값 in 입력값들:\n",
    "        print(번째, \"번째 입력값은 \", 입력값, \"입니다.\")\n",
    "        \n",
    "        번째 = 번째 + 1"
   ]
  },
  {
   "cell_type": "code",
   "execution_count": 22,
   "metadata": {},
   "outputs": [
    {
     "name": "stdout",
     "output_type": "stream",
     "text": [
      "1 번째 입력값은  1 입니다.\n",
      "2 번째 입력값은  이 입니다.\n",
      "3 번째 입력값은  3.5 입니다.\n",
      "4 번째 입력값은  Sa 입니다.\n",
      "5 번째 입력값은  [5, 6, 7] 입니다.\n"
     ]
    }
   ],
   "source": [
    "k_someinput(1, \"이\", 3.5, \"Sa\", [5, 6, 7])"
   ]
  },
  {
   "cell_type": "code",
   "execution_count": 23,
   "metadata": {},
   "outputs": [],
   "source": [
    "def k_someinput(*입력값들):\n",
    "    번째 = 1\n",
    "    \n",
    "    for 입력값 in 입력값들:\n",
    "        print(번째, \"번째 입력값은 \", 입력값, \"입니다.\")\n",
    "        \n",
    "        번째 = 번째 + 1\n",
    "        \n",
    "    return \"완료되었습니다.\""
   ]
  },
  {
   "cell_type": "code",
   "execution_count": 24,
   "metadata": {},
   "outputs": [
    {
     "name": "stdout",
     "output_type": "stream",
     "text": [
      "1 번째 입력값은  1 입니다.\n",
      "2 번째 입력값은  이 입니다.\n",
      "3 번째 입력값은  3.5 입니다.\n",
      "4 번째 입력값은  Sa 입니다.\n",
      "5 번째 입력값은  [5, 6, 7] 입니다.\n"
     ]
    },
    {
     "data": {
      "text/plain": [
       "'완료되었습니다.'"
      ]
     },
     "execution_count": 24,
     "metadata": {},
     "output_type": "execute_result"
    }
   ],
   "source": [
    "k_someinput(1, \"이\", 3.5, \"Sa\", [5, 6, 7])"
   ]
  },
  {
   "cell_type": "code",
   "execution_count": 25,
   "metadata": {},
   "outputs": [],
   "source": [
    "def k_someinput(*입력값들):\n",
    "    print(\"함수를 시작합니다.\")\n",
    "    \n",
    "    번째 = 1\n",
    "    \n",
    "    for 입력값 in 입력값들:\n",
    "        print(번째, \"번째 입력값은 \", 입력값, \"입니다.\")\n",
    "        \n",
    "        번째 = 번째 + 1\n",
    "        \n",
    "    return \"완료되었습니다.\""
   ]
  },
  {
   "cell_type": "code",
   "execution_count": 26,
   "metadata": {},
   "outputs": [
    {
     "name": "stdout",
     "output_type": "stream",
     "text": [
      "함수를 시작합니다.\n",
      "1 번째 입력값은  1 입니다.\n",
      "2 번째 입력값은  이 입니다.\n",
      "3 번째 입력값은  3.5 입니다.\n",
      "4 번째 입력값은  Sa 입니다.\n",
      "5 번째 입력값은  [5, 6, 7] 입니다.\n"
     ]
    },
    {
     "data": {
      "text/plain": [
       "'완료되었습니다.'"
      ]
     },
     "execution_count": 26,
     "metadata": {},
     "output_type": "execute_result"
    }
   ],
   "source": [
    "k_someinput(1, \"이\", 3.5, \"Sa\", [5, 6, 7])"
   ]
  },
  {
   "cell_type": "code",
   "execution_count": 27,
   "metadata": {},
   "outputs": [],
   "source": [
    "def k_someinput(*입력값들):\n",
    "    print(\"함수를 시작합니다.\")\n",
    "    \n",
    "    번째 = 1\n",
    "    \n",
    "    for 입력값 in 입력값들:\n",
    "        print(번째, \"번째 입력값은 \", 입력값, \"입니다.\")\n",
    "        \n",
    "        번째 = 번째 + 1\n",
    "        \n",
    "    print(\"완료되었습니다.\")"
   ]
  },
  {
   "cell_type": "code",
   "execution_count": 28,
   "metadata": {},
   "outputs": [
    {
     "name": "stdout",
     "output_type": "stream",
     "text": [
      "함수를 시작합니다.\n",
      "1 번째 입력값은  1 입니다.\n",
      "2 번째 입력값은  이 입니다.\n",
      "3 번째 입력값은  3.5 입니다.\n",
      "4 번째 입력값은  Sa 입니다.\n",
      "5 번째 입력값은  [5, 6, 7] 입니다.\n",
      "완료되었습니다.\n"
     ]
    }
   ],
   "source": [
    "k_someinput(1, \"이\", 3.5, \"Sa\", [5, 6, 7])"
   ]
  },
  {
   "cell_type": "code",
   "execution_count": 30,
   "metadata": {},
   "outputs": [],
   "source": [
    "def 출석여부():    \n",
    "    출석부 = []\n",
    "    기능 = 0\n",
    "\n",
    "    while 기능 != 4:\n",
    "        print(\"출석부 프로그램입니다.\")\n",
    "\n",
    "        if 기능 == 1:\n",
    "            print(\"추가하고싶은 사람을 입력하십시오: \")\n",
    "            출석부.append(input())\n",
    "            기능 = 0 \n",
    "        elif 기능 == 2:\n",
    "            print(\"삭제하고 싶은 사람을 입력하십시오: \")\n",
    "            출석부.remove(input())\n",
    "            기능 = 0\n",
    "        elif 기능 == 3:\n",
    "            for 이름 in 출석부:\n",
    "                print(이름)\n",
    "            print(\"추가는 1번, 삭제는 2번, 목록보기는 3번, 종료는 4번입니다.\")\n",
    "            기능 = int(input())\n",
    "    #     elif 기능 == 4:\n",
    "    #         print(\"종료합니다.\")\n",
    "    #         break\n",
    "        else:\n",
    "            print(\"추가는 1번, 삭제는 2번, 목록보기는 3번, 종료는 4번입니다.\")\n",
    "            기능 = int(input())\n",
    "\n",
    "    print(\"종료합니다.\")"
   ]
  },
  {
   "cell_type": "code",
   "execution_count": 31,
   "metadata": {},
   "outputs": [
    {
     "name": "stdout",
     "output_type": "stream",
     "text": [
      "출석부 프로그램입니다.\n",
      "추가는 1번, 삭제는 2번, 목록보기는 3번, 종료는 4번입니다.\n",
      "1\n",
      "출석부 프로그램입니다.\n",
      "추가하고싶은 사람을 입력하십시오: \n",
      "한국진\n",
      "출석부 프로그램입니다.\n",
      "추가는 1번, 삭제는 2번, 목록보기는 3번, 종료는 4번입니다.\n",
      "1\n",
      "출석부 프로그램입니다.\n",
      "추가하고싶은 사람을 입력하십시오: \n",
      "한국돌\n",
      "출석부 프로그램입니다.\n",
      "추가는 1번, 삭제는 2번, 목록보기는 3번, 종료는 4번입니다.\n",
      "1\n",
      "출석부 프로그램입니다.\n",
      "추가하고싶은 사람을 입력하십시오: \n",
      "한국지\n",
      "출석부 프로그램입니다.\n",
      "추가는 1번, 삭제는 2번, 목록보기는 3번, 종료는 4번입니다.\n",
      "3\n",
      "출석부 프로그램입니다.\n",
      "한국진\n",
      "한국돌\n",
      "한국지\n",
      "추가는 1번, 삭제는 2번, 목록보기는 3번, 종료는 4번입니다.\n",
      "4\n",
      "종료합니다.\n"
     ]
    }
   ],
   "source": [
    "출석여부()"
   ]
  },
  {
   "cell_type": "markdown",
   "metadata": {},
   "source": [
    "### 함수 밖의 변수를 변경\n",
    "이하 업데이트 예정"
   ]
  },
  {
   "cell_type": "code",
   "execution_count": null,
   "metadata": {},
   "outputs": [],
   "source": []
  }
 ],
 "metadata": {
  "kernelspec": {
   "display_name": "Python 3",
   "language": "python",
   "name": "python3"
  },
  "language_info": {
   "codemirror_mode": {
    "name": "ipython",
    "version": 3
   },
   "file_extension": ".py",
   "mimetype": "text/x-python",
   "name": "python",
   "nbconvert_exporter": "python",
   "pygments_lexer": "ipython3",
   "version": "3.6.5"
  }
 },
 "nbformat": 4,
 "nbformat_minor": 2
}
